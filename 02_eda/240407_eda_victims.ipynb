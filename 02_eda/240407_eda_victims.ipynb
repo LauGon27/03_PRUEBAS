{
 "cells": [
  {
   "cell_type": "markdown",
   "metadata": {},
   "source": [
    "# Análisis Exploratorio de Datos\n",
    "---\n"
   ]
  },
  {
   "cell_type": "markdown",
   "metadata": {},
   "source": []
  },
  {
   "cell_type": "code",
   "execution_count": 1,
   "metadata": {},
   "outputs": [],
   "source": [
    "import pandas as pd"
   ]
  },
  {
   "cell_type": "markdown",
   "metadata": {},
   "source": [
    "## Victimas\n",
    "---"
   ]
  },
  {
   "cell_type": "code",
   "execution_count": 2,
   "metadata": {},
   "outputs": [],
   "source": [
    "victims = pd.read_csv('/home/lalago/aprendizaje/03_PRUEBAS/00_data/Violence_Reduction_-_Victims_of_Homicides_and_Non-Fatal_Shootings_20240406.csv')"
   ]
  },
  {
   "cell_type": "code",
   "execution_count": 3,
   "metadata": {},
   "outputs": [
    {
     "name": "stdout",
     "output_type": "stream",
     "text": [
      "<class 'pandas.core.frame.DataFrame'>\n",
      "RangeIndex: 58558 entries, 0 to 58557\n",
      "Data columns (total 38 columns):\n",
      " #   Column                        Non-Null Count  Dtype  \n",
      "---  ------                        --------------  -----  \n",
      " 0   CASE_NUMBER                   58558 non-null  object \n",
      " 1   DATE                          58558 non-null  object \n",
      " 2   BLOCK                         58557 non-null  object \n",
      " 3   VICTIMIZATION_PRIMARY         58558 non-null  object \n",
      " 4   INCIDENT_PRIMARY              58558 non-null  object \n",
      " 5   GUNSHOT_INJURY_I              58558 non-null  object \n",
      " 6   UNIQUE_ID                     58558 non-null  object \n",
      " 7   ZIP_CODE                      58553 non-null  float64\n",
      " 8   WARD                          58553 non-null  float64\n",
      " 9   COMMUNITY_AREA                58553 non-null  object \n",
      " 10  STREET_OUTREACH_ORGANIZATION  58558 non-null  object \n",
      " 11  AREA                          58553 non-null  float64\n",
      " 12  DISTRICT                      58553 non-null  float64\n",
      " 13  BEAT                          58553 non-null  float64\n",
      " 14  AGE                           58558 non-null  object \n",
      " 15  SEX                           58558 non-null  object \n",
      " 16  RACE                          58558 non-null  object \n",
      " 17  VICTIMIZATION_FBI_CD          58226 non-null  object \n",
      " 18  INCIDENT_FBI_CD               58552 non-null  object \n",
      " 19  VICTIMIZATION_FBI_DESCR       58223 non-null  object \n",
      " 20  INCIDENT_FBI_DESCR            58552 non-null  object \n",
      " 21  VICTIMIZATION_IUCR_CD         58558 non-null  object \n",
      " 22  INCIDENT_IUCR_CD              58558 non-null  object \n",
      " 23  VICTIMIZATION_IUCR_SECONDARY  50134 non-null  object \n",
      " 24  INCIDENT_IUCR_SECONDARY       50452 non-null  object \n",
      " 25  HOMICIDE_VICTIM_FIRST_NAME    21016 non-null  object \n",
      " 26  HOMICIDE_VICTIM_MI            7566 non-null   object \n",
      " 27  HOMICIDE_VICTIM_LAST_NAME     21000 non-null  object \n",
      " 28  MONTH                         58558 non-null  int64  \n",
      " 29  DAY_OF_WEEK                   58558 non-null  int64  \n",
      " 30  HOUR                          58558 non-null  int64  \n",
      " 31  LOCATION_DESCRIPTION          58558 non-null  object \n",
      " 32  STATE_HOUSE_DISTRICT          58551 non-null  float64\n",
      " 33  STATE_SENATE_DISTRICT         58551 non-null  float64\n",
      " 34  UPDATED                       58556 non-null  object \n",
      " 35  LATITUDE                      58553 non-null  float64\n",
      " 36  LONGITUDE                     58553 non-null  float64\n",
      " 37  LOCATION                      58553 non-null  object \n",
      "dtypes: float64(9), int64(3), object(26)\n",
      "memory usage: 17.0+ MB\n"
     ]
    }
   ],
   "source": [
    "victims.info()"
   ]
  },
  {
   "cell_type": "code",
   "execution_count": 4,
   "metadata": {},
   "outputs": [
    {
     "data": {
      "text/plain": [
       "Index(['CASE_NUMBER', 'DATE', 'BLOCK', 'VICTIMIZATION_PRIMARY',\n",
       "       'INCIDENT_PRIMARY', 'GUNSHOT_INJURY_I', 'UNIQUE_ID', 'ZIP_CODE', 'WARD',\n",
       "       'COMMUNITY_AREA', 'STREET_OUTREACH_ORGANIZATION', 'AREA', 'DISTRICT',\n",
       "       'BEAT', 'AGE', 'SEX', 'RACE', 'VICTIMIZATION_FBI_CD', 'INCIDENT_FBI_CD',\n",
       "       'VICTIMIZATION_FBI_DESCR', 'INCIDENT_FBI_DESCR',\n",
       "       'VICTIMIZATION_IUCR_CD', 'INCIDENT_IUCR_CD',\n",
       "       'VICTIMIZATION_IUCR_SECONDARY', 'INCIDENT_IUCR_SECONDARY',\n",
       "       'HOMICIDE_VICTIM_FIRST_NAME', 'HOMICIDE_VICTIM_MI',\n",
       "       'HOMICIDE_VICTIM_LAST_NAME', 'MONTH', 'DAY_OF_WEEK', 'HOUR',\n",
       "       'LOCATION_DESCRIPTION', 'STATE_HOUSE_DISTRICT', 'STATE_SENATE_DISTRICT',\n",
       "       'UPDATED', 'LATITUDE', 'LONGITUDE', 'LOCATION'],\n",
       "      dtype='object')"
      ]
     },
     "execution_count": 4,
     "metadata": {},
     "output_type": "execute_result"
    }
   ],
   "source": [
    "victims.columns"
   ]
  },
  {
   "cell_type": "code",
   "execution_count": 5,
   "metadata": {},
   "outputs": [
    {
     "data": {
      "text/html": [
       "<div>\n",
       "<style scoped>\n",
       "    .dataframe tbody tr th:only-of-type {\n",
       "        vertical-align: middle;\n",
       "    }\n",
       "\n",
       "    .dataframe tbody tr th {\n",
       "        vertical-align: top;\n",
       "    }\n",
       "\n",
       "    .dataframe thead th {\n",
       "        text-align: right;\n",
       "    }\n",
       "</style>\n",
       "<table border=\"1\" class=\"dataframe\">\n",
       "  <thead>\n",
       "    <tr style=\"text-align: right;\">\n",
       "      <th></th>\n",
       "      <th>CASE_NUMBER</th>\n",
       "      <th>DATE</th>\n",
       "      <th>BLOCK</th>\n",
       "      <th>VICTIMIZATION_PRIMARY</th>\n",
       "      <th>INCIDENT_PRIMARY</th>\n",
       "      <th>GUNSHOT_INJURY_I</th>\n",
       "      <th>UNIQUE_ID</th>\n",
       "      <th>ZIP_CODE</th>\n",
       "      <th>WARD</th>\n",
       "      <th>COMMUNITY_AREA</th>\n",
       "      <th>...</th>\n",
       "      <th>MONTH</th>\n",
       "      <th>DAY_OF_WEEK</th>\n",
       "      <th>HOUR</th>\n",
       "      <th>LOCATION_DESCRIPTION</th>\n",
       "      <th>STATE_HOUSE_DISTRICT</th>\n",
       "      <th>STATE_SENATE_DISTRICT</th>\n",
       "      <th>UPDATED</th>\n",
       "      <th>LATITUDE</th>\n",
       "      <th>LONGITUDE</th>\n",
       "      <th>LOCATION</th>\n",
       "    </tr>\n",
       "  </thead>\n",
       "  <tbody>\n",
       "    <tr>\n",
       "      <th>0</th>\n",
       "      <td>JF167335</td>\n",
       "      <td>03/08/2022 03:27:00 PM</td>\n",
       "      <td>6000 N KENMORE AVE</td>\n",
       "      <td>HOMICIDE</td>\n",
       "      <td>HOMICIDE</td>\n",
       "      <td>NO</td>\n",
       "      <td>HOM-JF167335-#1</td>\n",
       "      <td>60660.0</td>\n",
       "      <td>48.0</td>\n",
       "      <td>EDGEWATER</td>\n",
       "      <td>...</td>\n",
       "      <td>3</td>\n",
       "      <td>3</td>\n",
       "      <td>15</td>\n",
       "      <td>APARTMENT</td>\n",
       "      <td>14.0</td>\n",
       "      <td>7.0</td>\n",
       "      <td>02/24/2023 05:55:43 AM</td>\n",
       "      <td>41.990570</td>\n",
       "      <td>-87.657000</td>\n",
       "      <td>POINT (-87.657 41.9905705)</td>\n",
       "    </tr>\n",
       "    <tr>\n",
       "      <th>1</th>\n",
       "      <td>A000157</td>\n",
       "      <td>01/01/1996 04:40:00 AM</td>\n",
       "      <td>4300 S STATE ST</td>\n",
       "      <td>HOMICIDE</td>\n",
       "      <td>HOMICIDE</td>\n",
       "      <td>YES</td>\n",
       "      <td>HOM-A000157-#1</td>\n",
       "      <td>60609.0</td>\n",
       "      <td>3.0</td>\n",
       "      <td>GRAND BOULEVARD</td>\n",
       "      <td>...</td>\n",
       "      <td>1</td>\n",
       "      <td>2</td>\n",
       "      <td>4</td>\n",
       "      <td>AUTO</td>\n",
       "      <td>6.0</td>\n",
       "      <td>3.0</td>\n",
       "      <td>12/21/2010 07:55:15 AM</td>\n",
       "      <td>41.816122</td>\n",
       "      <td>-87.626845</td>\n",
       "      <td>POINT (-87.62684534612 41.816121654142)</td>\n",
       "    </tr>\n",
       "    <tr>\n",
       "      <th>2</th>\n",
       "      <td>JB409046</td>\n",
       "      <td>08/26/2018 03:35:00 AM</td>\n",
       "      <td>4000 W PALMER ST</td>\n",
       "      <td>BATTERY</td>\n",
       "      <td>BATTERY</td>\n",
       "      <td>YES</td>\n",
       "      <td>SHOOT-JB409046-#1</td>\n",
       "      <td>60639.0</td>\n",
       "      <td>35.0</td>\n",
       "      <td>HERMOSA</td>\n",
       "      <td>...</td>\n",
       "      <td>8</td>\n",
       "      <td>1</td>\n",
       "      <td>3</td>\n",
       "      <td>STREET</td>\n",
       "      <td>3.0</td>\n",
       "      <td>2.0</td>\n",
       "      <td>03/05/2024 12:10:50 PM</td>\n",
       "      <td>41.920437</td>\n",
       "      <td>-87.727059</td>\n",
       "      <td>POINT (-87.727059058699 41.920436904142)</td>\n",
       "    </tr>\n",
       "    <tr>\n",
       "      <th>3</th>\n",
       "      <td>JB429086</td>\n",
       "      <td>09/09/2018 10:35:00 PM</td>\n",
       "      <td>3800 W DIVISION ST</td>\n",
       "      <td>BATTERY</td>\n",
       "      <td>BATTERY</td>\n",
       "      <td>YES</td>\n",
       "      <td>SHOOT-JB429086-#1</td>\n",
       "      <td>60651.0</td>\n",
       "      <td>27.0</td>\n",
       "      <td>HUMBOLDT PARK</td>\n",
       "      <td>...</td>\n",
       "      <td>9</td>\n",
       "      <td>1</td>\n",
       "      <td>22</td>\n",
       "      <td>STREET</td>\n",
       "      <td>4.0</td>\n",
       "      <td>2.0</td>\n",
       "      <td>03/05/2024 12:35:47 PM</td>\n",
       "      <td>41.902327</td>\n",
       "      <td>-87.721819</td>\n",
       "      <td>POINT (-87.721819058699 41.902326904142)</td>\n",
       "    </tr>\n",
       "    <tr>\n",
       "      <th>4</th>\n",
       "      <td>JD300964</td>\n",
       "      <td>07/17/2020 07:39:00 PM</td>\n",
       "      <td>9800 S AVENUE L</td>\n",
       "      <td>BATTERY</td>\n",
       "      <td>BATTERY</td>\n",
       "      <td>YES</td>\n",
       "      <td>SHOOT-JD300964-#1</td>\n",
       "      <td>60617.0</td>\n",
       "      <td>10.0</td>\n",
       "      <td>EAST SIDE</td>\n",
       "      <td>...</td>\n",
       "      <td>7</td>\n",
       "      <td>6</td>\n",
       "      <td>19</td>\n",
       "      <td>SIDEWALK</td>\n",
       "      <td>25.0</td>\n",
       "      <td>13.0</td>\n",
       "      <td>03/05/2024 10:13:41 AM</td>\n",
       "      <td>41.717037</td>\n",
       "      <td>-87.536371</td>\n",
       "      <td>POINT (-87.536370941301 41.717036904142)</td>\n",
       "    </tr>\n",
       "  </tbody>\n",
       "</table>\n",
       "<p>5 rows × 38 columns</p>\n",
       "</div>"
      ],
      "text/plain": [
       "  CASE_NUMBER                    DATE               BLOCK  \\\n",
       "0    JF167335  03/08/2022 03:27:00 PM  6000 N KENMORE AVE   \n",
       "1     A000157  01/01/1996 04:40:00 AM     4300 S STATE ST   \n",
       "2    JB409046  08/26/2018 03:35:00 AM    4000 W PALMER ST   \n",
       "3    JB429086  09/09/2018 10:35:00 PM  3800 W DIVISION ST   \n",
       "4    JD300964  07/17/2020 07:39:00 PM     9800 S AVENUE L   \n",
       "\n",
       "  VICTIMIZATION_PRIMARY INCIDENT_PRIMARY GUNSHOT_INJURY_I          UNIQUE_ID  \\\n",
       "0              HOMICIDE         HOMICIDE               NO    HOM-JF167335-#1   \n",
       "1              HOMICIDE         HOMICIDE              YES     HOM-A000157-#1   \n",
       "2               BATTERY          BATTERY              YES  SHOOT-JB409046-#1   \n",
       "3               BATTERY          BATTERY              YES  SHOOT-JB429086-#1   \n",
       "4               BATTERY          BATTERY              YES  SHOOT-JD300964-#1   \n",
       "\n",
       "   ZIP_CODE  WARD   COMMUNITY_AREA  ... MONTH  DAY_OF_WEEK  HOUR  \\\n",
       "0   60660.0  48.0        EDGEWATER  ...     3            3    15   \n",
       "1   60609.0   3.0  GRAND BOULEVARD  ...     1            2     4   \n",
       "2   60639.0  35.0          HERMOSA  ...     8            1     3   \n",
       "3   60651.0  27.0    HUMBOLDT PARK  ...     9            1    22   \n",
       "4   60617.0  10.0        EAST SIDE  ...     7            6    19   \n",
       "\n",
       "   LOCATION_DESCRIPTION STATE_HOUSE_DISTRICT STATE_SENATE_DISTRICT  \\\n",
       "0             APARTMENT                 14.0                   7.0   \n",
       "1                  AUTO                  6.0                   3.0   \n",
       "2                STREET                  3.0                   2.0   \n",
       "3                STREET                  4.0                   2.0   \n",
       "4              SIDEWALK                 25.0                  13.0   \n",
       "\n",
       "                  UPDATED   LATITUDE  LONGITUDE  \\\n",
       "0  02/24/2023 05:55:43 AM  41.990570 -87.657000   \n",
       "1  12/21/2010 07:55:15 AM  41.816122 -87.626845   \n",
       "2  03/05/2024 12:10:50 PM  41.920437 -87.727059   \n",
       "3  03/05/2024 12:35:47 PM  41.902327 -87.721819   \n",
       "4  03/05/2024 10:13:41 AM  41.717037 -87.536371   \n",
       "\n",
       "                                   LOCATION  \n",
       "0                POINT (-87.657 41.9905705)  \n",
       "1   POINT (-87.62684534612 41.816121654142)  \n",
       "2  POINT (-87.727059058699 41.920436904142)  \n",
       "3  POINT (-87.721819058699 41.902326904142)  \n",
       "4  POINT (-87.536370941301 41.717036904142)  \n",
       "\n",
       "[5 rows x 38 columns]"
      ]
     },
     "execution_count": 5,
     "metadata": {},
     "output_type": "execute_result"
    }
   ],
   "source": [
    "victims.head()"
   ]
  },
  {
   "cell_type": "code",
   "execution_count": 6,
   "metadata": {},
   "outputs": [
    {
     "data": {
      "text/plain": [
       "HOM-JF167335-#1      1\n",
       "SHOOT-JD388117-#1    1\n",
       "SHOOT-JD388620-#1    1\n",
       "SHOOT-JD388750-#1    1\n",
       "SHOOT-JD388899-#1    1\n",
       "                    ..\n",
       "SHOOT-HT442589-#1    1\n",
       "SHOOT-HT442650-#1    1\n",
       "SHOOT-HT443113-#1    1\n",
       "SHOOT-HT443415-#1    1\n",
       "SHOOT-JG482992-#1    1\n",
       "Name: UNIQUE_ID, Length: 58558, dtype: int64"
      ]
     },
     "execution_count": 6,
     "metadata": {},
     "output_type": "execute_result"
    }
   ],
   "source": [
    "victims['UNIQUE_ID'].value_counts()"
   ]
  },
  {
   "cell_type": "markdown",
   "metadata": {},
   "source": [
    "- Revisión de los objetos"
   ]
  },
  {
   "cell_type": "code",
   "execution_count": 7,
   "metadata": {},
   "outputs": [
    {
     "name": "stdout",
     "output_type": "stream",
     "text": [
      "['JF167335' 'A000157' 'JB409046' ... 'JG482866' 'JG483539' 'JG483902']\n",
      "['03/08/2022 03:27:00 PM' '01/01/1996 04:40:00 AM'\n",
      " '08/26/2018 03:35:00 AM' ... '10/29/2023 03:26:00 AM'\n",
      " '10/29/2023 04:35:00 PM' '10/29/2023 11:55:00 PM']\n",
      "['6000 N KENMORE AVE' '4300 S STATE ST' '4000 W PALMER ST' ...\n",
      " '2900 N LOCKWOOD AVE' '3500 W 60TH PL' '3700 W 77TH PL']\n",
      "['HOMICIDE' 'BATTERY' 'ROBBERY' 'NON-FATAL' 'CRIMINAL SEXUAL ASSAULT'\n",
      " 'PUBLIC PEACE VIOLATION']\n",
      "['HOMICIDE' 'BATTERY' 'ROBBERY' 'NON-FATAL' 'CRIMINAL SEXUAL ASSAULT']\n",
      "['NO' 'YES']\n",
      "['HOM-JF167335-#1' 'HOM-A000157-#1' 'SHOOT-JB409046-#1' ...\n",
      " 'SHOOT-JG483539-#1' 'SHOOT-JG483902-#1' 'SHOOT-JG482992-#1']\n",
      "[60660. 60609. 60639. 60651. 60617. 60620. 60649. 60641. 60636. 60624.\n",
      " 60623. 60644. 60619. 60605. 60616. 60628. 60640. 60652. 60625. 60621.\n",
      " 60647. 60608. 60827. 60637. 60629. 60626. 60612. 60610. 60615. 60632.\n",
      " 60653. 60638. 60622. 60655. 60659. 60618. 60642. 60603. 60633. 60614.\n",
      "    nan 60643. 60613. 60645. 60607. 60634. 60657. 60631. 60630. 60656.\n",
      " 60654. 60646. 60707. 60602. 60661. 60606. 60601. 60604. 60611.]\n",
      "[48.  3. 35. 27. 10. 17.  7. 12. 30. 16. 24. 25. 28.  8.  6.  4.  9. 47.\n",
      " 29. 18. 33.  1. 11. 22. 20. 37. 49.  2.  5. 13. 36. 19. 26. 21. 46. 50.\n",
      " 31. 15. 40. 34. 32. nan 14. 38. 23. 44. 41. 39. 45. 42. 43.]\n",
      "['EDGEWATER' 'GRAND BOULEVARD' 'HERMOSA' 'HUMBOLDT PARK' 'EAST SIDE'\n",
      " 'AUBURN GRESHAM' 'SOUTH SHORE' 'MCKINLEY PARK' 'IRVING PARK'\n",
      " 'WEST ENGLEWOOD' 'WEST GARFIELD PARK' 'SOUTH LAWNDALE' 'AUSTIN'\n",
      " 'AVALON PARK' 'CHATHAM' 'LOOP' 'NEAR SOUTH SIDE' 'ROSELAND'\n",
      " 'SOUTH CHICAGO' 'NORTH LAWNDALE' 'UPTOWN' 'CALUMET HEIGHTS' 'ASHBURN'\n",
      " 'ALBANY PARK' 'ENGLEWOOD' 'LOGAN SQUARE' 'RIVERDALE' 'FULLER PARK'\n",
      " 'WOODLAWN' 'NEAR WEST SIDE' 'CHICAGO LAWN' 'GREATER GRAND CROSSING'\n",
      " 'ROGERS PARK' 'EAST GARFIELD PARK' 'LINCOLN SQUARE' 'WASHINGTON PARK'\n",
      " 'NEAR NORTH SIDE' 'KENWOOD' 'GARFIELD RIDGE' 'WEST PULLMAN' 'NEW CITY'\n",
      " 'CLEARING' 'WEST TOWN' 'BEVERLY' 'MOUNT GREENWOOD' 'WEST RIDGE'\n",
      " 'AVONDALE' 'BELMONT CRAGIN' 'BRIGHTON PARK' 'DOUGLAS' 'HEGEWISCH'\n",
      " 'PULLMAN' 'WASHINGTON HEIGHTS' 'LOWER WEST SIDE' nan 'OAKLAND'\n",
      " 'ARMOUR SQUARE' 'NORTH CENTER' 'SOUTH DEERING' 'BURNSIDE' 'GAGE PARK'\n",
      " 'BRIDGEPORT' 'DUNNING' 'MORGAN PARK' 'WEST ELSDON' 'LAKE VIEW'\n",
      " 'ARCHER HEIGHTS' 'EDISON PARK' 'NORTH PARK' 'HYDE PARK' 'PORTAGE PARK'\n",
      " 'LINCOLN PARK' 'OHARE' 'FOREST GLEN' 'MONTCLARE' 'NORWOOD PARK'\n",
      " 'JEFFERSON PARK' 'WEST LAWN']\n",
      "['None' 'Acclivus Grand Boulevard' 'ALSO Humboldt Park'\n",
      " 'Claretian Associates South Deering' 'TADC Auburn Gresham'\n",
      " 'Claretian Associates South Shore' 'Envision McKinley Park'\n",
      " 'TADC West Englewood | READI 60631 | Public Equity West Englewood'\n",
      " 'UCAN North Lawndale | READI 60624 | INVC West Garfield Park'\n",
      " 'READI 60623 | New Life Centers South Lawndale | Enlace South Lawndale'\n",
      " 'Together Chicago Austin | READI 60644 | INVC Austin'\n",
      " 'READI 60624 | ALSO Humboldt Park' 'UCAN Roseland | CRED South Side'\n",
      " 'Claretian Associates South Chicago' 'UCAN North Lawndale | READI 60623'\n",
      " 'INVC Austin' 'Acclivus West Pullman' 'ALSO Albany Park'\n",
      " 'TADC Englewood | READI 60621 | Public Equity Englewood'\n",
      " 'READI 60624 | INVC West Garfield Park' 'UCAN Riverdale'\n",
      " 'UCAN North Lawndale | READI 60624' 'Acclivus Fuller Park'\n",
      " 'UCAN Roseland' 'TADC Englewood | READI 60621'\n",
      " 'Project H.O.O.D. Woodlawn' 'SWOP Chicago Lawn'\n",
      " 'READI 60624 | Breakthrough East Garfield Park'\n",
      " 'ONE Northside Rogers Park' 'Breakthrough East Garfield Park'\n",
      " 'Acclivus Greater Grand Crossing' 'Acclivus Washington Park'\n",
      " 'READI 60644 | INVC Austin'\n",
      " 'UCAN North Lawndale | READI 60623 | CRED West Side'\n",
      " 'Roseland Ceasefire - West Pullman | CRED South Side | Acclivus West Pullman'\n",
      " 'CRED South Side' 'PBMR New City'\n",
      " 'Together Chicago Near West Side | Breakthrough East Garfield Park'\n",
      " 'TADC Chatham' 'READI 60631 | Public Equity West Englewood'\n",
      " 'READI 60644 | INVC West Garfield Park' 'Together Chicago Near West Side'\n",
      " 'Acclivus Washington Heights' 'ONE Northside Uptown'\n",
      " 'TADC West Englewood | READI 60631'\n",
      " 'READI 60621 | Public Equity Englewood' 'ALSO Avondale'\n",
      " 'ALSO Belmont Cragin' 'New Life Centers Brighton Park' 'Acclivus Douglas'\n",
      " 'READI 60631' 'New Life Centers South Lawndale | Enlace South Lawndale'\n",
      " 'CRED South Side | Acclivus Washington Heights'\n",
      " 'UCAN North Lawndale | Together Chicago East Garfield Park | Breakthrough East Garfield Park'\n",
      " 'New Life Centers Brighton Park | Envision Brighton Park'\n",
      " 'UCAN North Lawndale'\n",
      " 'New Life Centers Lower West Side | Enlace Lower West Side'\n",
      " 'SWOP Gage Park'\n",
      " 'Roseland Ceasefire - West Pullman | Acclivus West Pullman'\n",
      " 'READI 60623 | Enlace South Lawndale' 'READI 60624' 'READI 60644'\n",
      " 'READI 60621 | Public Equity Englewood | Acclivus Washington Park'\n",
      " 'CRED South Side | Acclivus West Pullman'\n",
      " 'TADC Chatham | Acclivus Greater Grand Crossing'\n",
      " 'ALSO Humboldt Park | ALSO Belmont Cragin'\n",
      " 'SWOP Chicago Lawn | READI 60631' 'READI 60623' 'Enlace South Lawndale'\n",
      " 'PBMR New City | Acclivus Fuller Park'\n",
      " 'UCAN North Lawndale | READI 60624 | Breakthrough East Garfield Park'\n",
      " 'READI 60621' 'Envision West Lawn'\n",
      " 'READI 60621 | Acclivus Washington Park' 'SWOP Gage Park | READI 60631'\n",
      " 'UCAN North Lawndale | Together Chicago East Garfield Park'\n",
      " 'Together Chicago East Garfield Park | Breakthrough East Garfield Park'\n",
      " 'Enlace Lower West Side' 'Envision Brighton Park'\n",
      " 'SWOP Gage Park | Envision West Lawn'\n",
      " 'SWOP Chicago Lawn | Envision West Lawn' 'READI 60623 | CRED West Side'\n",
      " 'READI 60644 | INVC West Garfield Park | INVC Austin'\n",
      " 'Public Equity Englewood' 'TADC Englewood | Public Equity Englewood'\n",
      " 'READI 60621 | Public Equity Englewood | Acclivus Greater Grand Crossing'\n",
      " 'Public Equity West Englewood' 'TADC West Englewood'\n",
      " 'READI 60623 | New Life Centers Brighton Park'\n",
      " 'TADC West Englewood | Public Equity West Englewood'\n",
      " 'Roseland Ceasefire West Pullman' 'INVC West Garfield Park'\n",
      " 'TADC Englewood']\n",
      "[ 3.  1.  5.  2.  4. nan]\n",
      "[24.  2. 25.  4.  6.  3.  9. 17.  7. 11. 10. 15.  1.  5. 19.  8. 14. 20.\n",
      " 12. 18. 22. nan 16.]\n",
      "[2433.  215. 2525. 2535.  432.  611.  334.  912. 1731.  725. 1132. 1032.\n",
      " 1532.  412.  632.  123. 1121.  131.  511.  424.  421. 1011. 1912. 2531.\n",
      "  413.  411.  522.  835. 1723.  712.  422. 1411.  612. 1113. 1031.  533.\n",
      "  734. 1133.  925. 1111. 2024.  423.  333.  711.  313. 1524. 1232.  825.\n",
      " 1122. 1123.  621. 2422. 1022. 1131.  733. 1124. 1911.  323. 1013.  231.\n",
      " 1821. 1513.  223.  414. 2431.  332.  815.  523. 1225. 1125.  634.  312.\n",
      "  932.  221.  813. 1221. 2221.  624.  933.  631.  726. 2023.  314. 1223.\n",
      "  832. 1422. 2222.  722. 2211. 1914. 2413.  322. 1512. 1733.  713. 1112.\n",
      " 1423.  732.  723.  311.  232. 1732. 2521.  321.  922.  212. 1214. 2534.\n",
      " 1511.  613. 1531. 2011.  112.  433. 2533. 1233. 2223. 1713. 1433. 1115.\n",
      " 1224.  324. 2432.  214.  222. 1012. 1432. 2513. 1034.  532. 2514.  934.\n",
      " 1021.  731. 1114. 2424. 1522. 1523. 1235.  531.   nan 2232. 1533.  513.\n",
      "  724.  914.  213. 2423. 1412. 1215. 1023.  224.  715. 1913.  512. 1134.\n",
      " 2512. 1431. 1915.  935. 2032. 1014.  823. 1033.  921.  614.  431.  331.\n",
      " 2532. 1823.  923.  913.  924. 1234.  633. 2213.  824.  821. 2233. 1231.\n",
      " 1631. 1222.  714.  812. 1414. 1421.  931.  132. 2031.  524. 2234. 1724.\n",
      " 1934. 2012.  735. 1024. 1424.  434. 1611.  623.  814.  225. 2522. 2523.\n",
      " 1722. 2524. 1931. 1213. 1135. 1711.  831. 2515. 1824. 1923. 1211. 1612.\n",
      "  622.  234.  911. 1712.  122. 1633. 1622. 2022. 1413.  133.  811. 1614.\n",
      " 1832. 1621.  833.  822. 2411. 2212. 1434.  114.  233. 1212.  915. 1624.\n",
      "  834. 1634.  121. 1822. 1623. 2412. 1921. 1814. 2511. 1632. 1924. 1925.\n",
      " 2013.  111. 1922. 1932. 2033. 1831. 1811.  211.  113. 1935. 1613. 1834.\n",
      " 1933.  124.  235. 1833. 1813. 1812.]\n",
      "['60-69' '0-19' '30-39' '20-29' '40-49' '50-59' '80+' '70-79' 'UNKNOWN']\n",
      "['M' 'F' 'UNKNOWN']\n",
      "['BLK' 'WWH' 'WHI' 'API' 'I' 'WBH' 'UNKNOWN']\n",
      "['01A' '04B' '03' nan '02' '08B' '24']\n",
      "['01A' '04B' '03' nan '02']\n",
      "['HOMICIDE - 1ST OR 2ND DEGREE (INDEX)' 'AGGRAVATED BATTERY (INDEX)'\n",
      " 'ROBBERY (INDEX)' nan 'CRIMINAL SEXUAL ASSAULT (INDEX)']\n",
      "['HOMICIDE - 1ST OR 2ND DEGREE (INDEX)' 'AGGRAVATED BATTERY (INDEX)'\n",
      " 'ROBBERY (INDEX)' nan 'CRIMINAL SEXUAL ASSAULT (INDEX)']\n",
      "['0110' '01XX' '041A' '031A' '0130' 'UNK' '033A' '0450' '041B' '0488'\n",
      " '033B' '031B' '0331' '0481' '0489' '0480' '0326' '0330' '0451' '0325'\n",
      " '0337' '0261' '0460' '0430' '0313' '0420' '0470' '0486' '0497']\n",
      "['0110' '01XX' '041A' '031A' '0130' '033A' 'UNK' '0450' '041B' '0488'\n",
      " '033B' '031B' '0331' '0481' '0489' '0480' '0326' '0330' '0451' '0325'\n",
      " '0337' '0313' '0261' '0497']\n",
      "['FIRST DEGREE MURDER' nan 'AGGRAVATED - HANDGUN' 'ARMED - HANDGUN'\n",
      " 'SECOND DEGREE MURDER' 'ATTEMPT ARMED - HANDGUN'\n",
      " 'AGGRAVATED POLICE OFFICER - HANDGUN' 'AGGRAVATED - OTHER FIREARM'\n",
      " 'AGGRAVATED DOMESTIC BATTERY - HANDGUN' 'ATTEMPT ARMED - OTHER FIREARM'\n",
      " 'ARMED - OTHER FIREARM' 'ATTEMPT AGGRAVATED'\n",
      " 'AGGRAVATED PROTECTED EMPLOYEE - OTHER FIREARM'\n",
      " 'AGGRAVATED DOMESTIC BATTERY - OTHER FIREARM'\n",
      " 'AGGRAVATED PROTECTED EMPLOYEE - HANDGUN'\n",
      " 'AGGRAVATED VEHICULAR HIJACKING' 'AGGRAVATED'\n",
      " 'AGGRAVATED POLICE OFFICER - OTHER FIREARM' 'VEHICULAR HIJACKING'\n",
      " 'ATTEMPT ARMED - OTHER DANGEROUS WEAPON' 'SIMPLE'\n",
      " 'AGGRAVATED - OTHER DANGEROUS WEAPON' 'ARMED - OTHER DANGEROUS WEAPON'\n",
      " 'AGGRAVATED - KNIFE / CUTTING INSTRUMENT' 'RECKLESS CONDUCT'\n",
      " 'DOMESTIC BATTERY SIMPLE'\n",
      " 'AGGRAVATED DOMESTIC BATTERY - OTHER DANGEROUS WEAPON']\n",
      "['FIRST DEGREE MURDER' nan 'AGGRAVATED - HANDGUN' 'ARMED - HANDGUN'\n",
      " 'SECOND DEGREE MURDER' 'ATTEMPT ARMED - HANDGUN'\n",
      " 'AGGRAVATED POLICE OFFICER - HANDGUN' 'AGGRAVATED - OTHER FIREARM'\n",
      " 'AGGRAVATED DOMESTIC BATTERY - HANDGUN' 'ATTEMPT ARMED - OTHER FIREARM'\n",
      " 'ARMED - OTHER FIREARM' 'ATTEMPT AGGRAVATED'\n",
      " 'AGGRAVATED PROTECTED EMPLOYEE - OTHER FIREARM'\n",
      " 'AGGRAVATED DOMESTIC BATTERY - OTHER FIREARM'\n",
      " 'AGGRAVATED PROTECTED EMPLOYEE - HANDGUN'\n",
      " 'AGGRAVATED VEHICULAR HIJACKING' 'AGGRAVATED'\n",
      " 'AGGRAVATED POLICE OFFICER - OTHER FIREARM' 'VEHICULAR HIJACKING'\n",
      " 'ATTEMPT ARMED - OTHER DANGEROUS WEAPON' 'ARMED - OTHER DANGEROUS WEAPON'\n",
      " 'AGGRAVATED DOMESTIC BATTERY - OTHER DANGEROUS WEAPON']\n",
      "['MICHAEL' 'LAVELL A' nan ... 'NATHAN C' 'VERDIA' 'BERTRAM']\n",
      "[nan 'A' 'L' 'M' 'T' 'B' 'S' 'J' 'R' 'N' 'JR' 'C' 'H' 'E' 'D' 'O' 'P' 'G'\n",
      " 'I' 'K' 'Y' 'W' 'F' 'V' 'III' 'X' 'Q' 'FRANK' 'Z' 'O.R.' 'MONTREAL'\n",
      " 'JAMES' 'PORSHEA' 'MARSHAUN' 'JAMAL' 'LAMAR' 'EL' 'VINCENT' 'LARON' 'KAY'\n",
      " 'MICHAEL' 'REESE' 'DOPOLIS' 'JUAN' 'MARKESE' 'JOSE' 'MARTIN' 'TREMAINE'\n",
      " 'GLENN' 'C.' 'COOL' 'RASHAD' 'LEE' 'IZIAH' 'JW' 'WILLIAM' 'EARL' 'MARRON'\n",
      " 'ELLIOT' 'MACIEL' 'JAY' 'E M' 'AHMELE MARCUS' 'DESHAWN' 'RASHID'\n",
      " 'ANTONIO' 'JAVIER' 'TYSHAUN' 'JUAM' 'JB' 'RICKY' 'JUNIOR' 'SR.' 'THOMAS'\n",
      " 'GENERAL' 'MARIO' 'ERIC' 'MARVIN' 'CARLO' 'L.' 'DEVILLE' 'MARQUIS'\n",
      " 'ERDALE' 'SANDERS' 'ANTHONY' 'U' 'ANN' 'DEON' 'LESTER' 'TORREZ' 'RASHAWN'\n",
      " 'SAT' 'RAMON' 'CURTIS' 'BERNARD' 'ALAN' 'EMIL' 'HOPE' 'WASHAWN' 'ESTES'\n",
      " 'K.' 'RICARDO' 'TRAVON' 'HUGO' 'MORICE' 'WALTER' 'D M' 'BRIAN' 'EDWARD'\n",
      " 'MONIQUE' 'KEYON' 'LUIS' 'HOLLOWAY' 'MICHELLE' 'KYLE' 'CHINA' 'JUBAR'\n",
      " 'SADAT' '7735170302' 'MD' 'LUYANE' 'JERMAINE' 'DOMINGO' 'ISAIAH'\n",
      " 'DEANGELO' 'DAVIS' 'JAVONTE' 'DEANTE' 'FELIX' 'CHARLES WAYNE' 'P.J.'\n",
      " 'DONZELL' 'TAUREZ' 'LAJUAN' 'P.I.' 'ALBERTO' 'CORTES' 'ALEXANDER' 'LASH'\n",
      " 'LUCAS RODOLFO' 'JOSEPH-DESEAN' 'DEMON' 'JESUS' 'DOMINQUE' 'KENYATTA'\n",
      " 'ANTWAIN' 'NICOLE' 'OMAR' 'EMMANUEL' 'RAFAEL' 'DONTE' 'MARQUISE' 'F. D.'\n",
      " 'ISAAC' 'LEMARR' 'LAMONT' 'DION' 'LEMONTE' 'DEARCO' 'FRANKLIN' 'JAMIER'\n",
      " \"D'ANGELO\" 'JAHEIM' 'HA' 'MITCHELL' 'OSHAY' 'CHARLES' 'C L' 'SYOMON'\n",
      " 'TERRELL' 'ANDREW' 'TREVEON' 'DIONISIO' 'DESEAN' 'TYRONE' 'DURSTON'\n",
      " 'LOREL' 'EARL JR' 'STUART KISEAN' 'EMMA' 'PAUL' 'SHAUNTAYE' 'DAVID'\n",
      " 'LASHAWN' 'MALIK' 'PIERRE' 'COURTNEY' 'JAKING' 'ARIEL' 'SHANTEZ' 'TYSHON'\n",
      " 'A J' 'TYRICE' 'BELTRAN' 'HAKEEM' 'DWAYNE' 'DUNSHAY' 'S A' 'TUPAC' 'MARK'\n",
      " 'TROY' 'LYNN' 'LATRELL' 'NOLAN' 'NAJAY' 'II' 'RAYSHAWN' 'ALLANTE'\n",
      " 'JERELL' 'LEON' 'LEMAR' 'MANUEL' 'BURNETT' 'DEL' 'RONALD' 'MAYWEATHER'\n",
      " 'MATTHEW' 'MARTIZE' 'JASON' 'CORNELL' 'NMI' 'DARIUS' 'MALEK JESUS'\n",
      " 'JOSUE' 'Q.' 'LATRICE' 'LORENZO' 'AV' 'DARRELL' 'MBIG' 'RAY' 'CORNELIUS'\n",
      " 'DESHON' 'JOSEPH' 'MORRIS' 'MICHEAL' 'CORTEZ' 'TERRY' 'A.' 'ROBERT'\n",
      " 'DEVONTE' 'RASHON' 'ALONZO' 'FREDERICK' 'TARELL' 'DONTRELL'\n",
      " 'DAENDRE LEVON' 'LAVANN' 'IT' 'CARLOS' 'TL' 'SHANTA' 'JOE' 'RICO' 'KEVIN'\n",
      " 'IVORY' 'ALFREDO' 'SHAWNTARIA' 'LLOYD' 'MAURICE' 'LG' 'PHARON' 'TREMELLE'\n",
      " 'QUINN' 'CJ' 'T.' 'MACK' 'BRANDY' 'D.' 'KEITH' 'MCKINNEY' 'DEWIGHT'\n",
      " 'THUROD' 'LATICE' 'X L' 'DEWAYNE' 'JASPER' 'ARON' 'LARIELL' 'ELDRAKO'\n",
      " 'DE ANDRE' 'MARCUS']\n",
      "['MCDADE' 'SMITH' nan ... 'UNGER' 'CARILLO' 'SCARVER']\n",
      "[ 3  1  8  9  7 10 12  5  2  4  6 11]\n",
      "[3 2 1 6 5 7 4]\n",
      "[15  4  3 22 19 13 21  7 12 23 17  2  0  1  9 16 14  5 20 18 10  6 11  8]\n",
      "['APARTMENT' 'AUTO' 'STREET' 'SIDEWALK' 'GAS STATION' 'RESIDENCE'\n",
      " 'PARKING LOT' 'ALLEY' 'CHA APARTMENT' 'HOUSE' 'BARBER SHOP/BEAUTY SALON'\n",
      " 'TAVERN' 'TAXI CAB' 'CHA GROUNDS' 'RETAIL STORE' 'CTA PROPERTY' 'HALLWAY'\n",
      " 'RESTAURANT' 'CHA STAIRWELL' 'YARD' 'ABANDONED BUILDING'\n",
      " 'JUNK YARD/GARBAGE DUMP' 'CTA \"L\" PLATFORM' 'GANGWAY' 'FOREST PRESERVE'\n",
      " 'LIQUOR STORE' 'RELIEF SHELTER' 'PORCH' 'VACANT LOT'\n",
      " 'GAS STATION DRIVE/PROP.' 'GARAGE' 'CHA HALLWAY' 'BASEMENT' 'OFFICE'\n",
      " 'LAKE' 'PARK PROPERTY' 'CHA LOBBY' 'COUNTY JAIL' 'VESTIBULE'\n",
      " 'CHA BREEZEWAY' 'PRAIRIE' 'CHA PARKING LOT' 'CHA ELEVATOR' 'HOTEL'\n",
      " 'RAILROAD PROPERTY' 'CLUB' 'POOLROOM' 'DUMPSTER' 'CHURCH PROPERTY'\n",
      " 'CHURCH' 'CLEANERS/LAUNDROMAT' 'SCHOOL YARD' 'DRIVEWAY' 'SEWER'\n",
      " 'CURRENCY EXCHANGE' 'ROOMING HOUSE' 'TRUCK' 'MOTEL' 'CTA PLATFORM'\n",
      " 'CTA SUBWAY STATION' 'ROOF' 'CAR WASH' 'LAGOON' 'TRAILER HOME' 'TRAILER'\n",
      " 'RAILROAD TRAIN' 'HOSPITAL' 'NURSING HOME' 'STAIRWELL'\n",
      " 'GARAGE/AUTO REPAIR' 'CTA BUS' 'COACH HOUSE' 'CHA PLAY LOT' 'RIVER'\n",
      " 'WOODED AREA' 'PUBLIC GRAMMAR SCHOOL' 'FUNERAL PARLOR' 'CTA \"L\" TRAIN'\n",
      " 'PUBLIC HIGH SCHOOL' 'TRUCKING TERMINAL' 'WAREHOUSE' 'LAUNDRY ROOM'\n",
      " 'LIVERY AUTO' 'BANK' 'RIVER BANK' 'FACTORY' 'CTA BUS STOP'\n",
      " 'BAR OR TAVERN' 'GOVERNMENT BUILDING' 'EXPRESSWAY EMBANKMENT'\n",
      " 'PARKING LOT / GARAGE (NON RESIDENTIAL)' 'OTHER (SPECIFY)' 'YMCA'\n",
      " 'ELEVATOR' 'VEHICLE NON-COMMERCIAL' 'POLICE FACILITY'\n",
      " 'HOSPITAL BUILDING / GROUNDS' 'RESIDENCE - YARD (FRONT / BACK)'\n",
      " 'GAME ROOM' 'CHA PARKING LOT / GROUNDS' 'BANQUET HALL'\n",
      " 'SCHOOL - PUBLIC GROUNDS' 'SMALL RETAIL STORE' 'BEACH'\n",
      " 'VACANT LOT / LAND' 'FIRE ESCAPE' 'LIVERY STAND OFFICE' 'COURT HOUSE'\n",
      " 'CATCH BASIN' 'RESIDENCE - PORCH / HALLWAY' 'BETTING PARLOR'\n",
      " 'RESIDENCE - GARAGE' 'CHA TOWNHOUSE' 'HOTEL / MOTEL' 'DEPARTMENT STORE'\n",
      " '(NOT PROVIDED)' 'COMMERCIAL / BUSINESS OFFICE' 'DRIVEWAY - RESIDENTIAL'\n",
      " 'RESIDENTIAL YARD (FRONT/BACK)' 'OTHER' 'RESIDENCE-GARAGE'\n",
      " 'RESIDENCE PORCH/HALLWAY' 'PARKING LOT/GARAGE(NON.RESID.)'\n",
      " 'CHA PARKING LOT/GROUNDS' 'TAXICAB' 'VACANT LOT/LAND'\n",
      " 'TAVERN/LIQUOR STORE' 'GROCERY FOOD STORE' 'CHURCH HALL' 'BARBERSHOP'\n",
      " 'CONSTRUCTION SITE' 'SCHOOL, PUBLIC, GROUNDS' 'CONVENIENCE STORE'\n",
      " 'SCHOOL, PUBLIC, BUILDING' 'CHA HALLWAY/STAIRWELL/ELEVATOR'\n",
      " 'OTHER COMMERCIAL TRANSPORTATION' 'HOSPITAL BUILDING/GROUNDS'\n",
      " 'GOVERNMENT BUILDING/PROPERTY' 'CTA GARAGE / OTHER PROPERTY'\n",
      " 'HOTEL/MOTEL' 'OTHER RAILROAD PROP / TRAIN DEPOT' 'DRUG STORE'\n",
      " 'VEHICLE-COMMERCIAL' 'CTA STATION' 'CLEANING STORE'\n",
      " 'CHURCH/SYNAGOGUE/PLACE OF WORSHIP' 'VEHICLE - OTHER RIDE SERVICE'\n",
      " 'APPLIANCE STORE' 'SCHOOL, PRIVATE, GROUNDS' 'DAY CARE CENTER'\n",
      " 'HIGHWAY/EXPRESSWAY' 'BRIDGE' 'TAVERN / LIQUOR STORE'\n",
      " 'SCHOOL, PRIVATE, BUILDING' 'ATM (AUTOMATIC TELLER MACHINE)'\n",
      " 'CHA HALLWAY / STAIRWELL / ELEVATOR' 'LAKEFRONT/WATERFRONT/RIVERBANK'\n",
      " 'CTA TRAIN' 'VEHICLE - OTHER RIDE SHARE SERVICE (E.G., UBER, LYFT)'\n",
      " 'NURSING HOME/RETIREMENT HOME' 'LIBRARY' 'HIGHWAY / EXPRESSWAY'\n",
      " 'VEHICLE - COMMERCIAL: ENTERTAINMENT / PARTY BUS'\n",
      " 'POLICE FACILITY / VEHICLE PARKING LOT' 'GOVERNMENT BUILDING / PROPERTY'\n",
      " 'VEHICLE - OTHER RIDE SHARE SERVICE (LYFT, UBER, ETC.)' 'BOWLING ALLEY'\n",
      " 'MEDICAL / DENTAL OFFICE' 'MOVIE HOUSE / THEATER' 'ATHLETIC CLUB'\n",
      " 'LAKEFRONT / WATERFRONT / RIVERBANK'\n",
      " 'CHURCH / SYNAGOGUE / PLACE OF WORSHIP' 'VEHICLE - COMMERCIAL'\n",
      " 'AIRPORT PARKING LOT' 'CTA PARKING LOT / GARAGE / OTHER PROPERTY'\n",
      " 'SPORTS ARENA / STADIUM' 'FIRE STATION' 'SCHOOL - PUBLIC BUILDING'\n",
      " 'LOADING DOCK' 'COLLEGE/UNIV. BUILDING' 'PAWN SHOP']\n",
      "[14.  6.  3.  4. 25. 31.  2. 39. 32. 10. 21.  8. 33. 34.  5. 27.  9. 13.\n",
      " 78. 28. 40. 26. 24. 29. 11. 12.  1. 22. 35. 36. 16. 15. nan 19. 20. 55.]\n",
      "[ 7.  3.  2. 13. 16.  1. 20.  5. 11.  4. 17. 14. 39. 12. 15.  6. 18.  8.\n",
      " nan 10. 28.]\n",
      "['02/24/2023 05:55:43 AM' '12/21/2010 07:55:15 AM'\n",
      " '03/05/2024 12:10:50 PM' ... '01/02/2024 01:49:34 AM'\n",
      " '11/12/2023 07:09:42 PM' '12/27/2023 11:50:56 PM']\n",
      "[41.9905705  41.81612165 41.9204369  ... 41.9330069  41.7517769\n",
      " 41.91263835]\n",
      "[-87.657      -87.62684535 -87.72705906 ... -87.75905906 -87.71671906\n",
      " -87.77224465]\n",
      "['POINT (-87.657 41.9905705)' 'POINT (-87.62684534612 41.816121654142)'\n",
      " 'POINT (-87.727059058699 41.920436904142)' ...\n",
      " 'POINT (-87.716719058699 41.751776904142)'\n",
      " 'POINT (-87.664429058699 41.772253095858)'\n",
      " 'POINT (-87.77224465388 41.912638345858)']\n"
     ]
    }
   ],
   "source": [
    "for elements in victims.columns:\n",
    "    print(victims[elements].unique())"
   ]
  },
  {
   "cell_type": "code",
   "execution_count": 8,
   "metadata": {},
   "outputs": [
    {
     "data": {
      "text/plain": [
       "<AxesSubplot:>"
      ]
     },
     "execution_count": 8,
     "metadata": {},
     "output_type": "execute_result"
    },
    {
     "data": {
      "image/png": "[encoded data removed]",
      "text/plain": [
       "<Figure size 432x288 with 1 Axes>"
      ]
     },
     "metadata": {
      "needs_background": "light"
     },
     "output_type": "display_data"
    }
   ],
   "source": [
    "victims['VICTIMIZATION_PRIMARY'].value_counts().plot.bar()"
   ]
  },
  {
   "cell_type": "code",
   "execution_count": 9,
   "metadata": {},
   "outputs": [
    {
     "data": {
      "text/plain": [
       "<AxesSubplot:>"
      ]
     },
     "execution_count": 9,
     "metadata": {},
     "output_type": "execute_result"
    },
    {
     "data": {
      "image/png": "[encoded data removed]",
      "text/plain": [
       "<Figure size 432x288 with 1 Axes>"
      ]
     },
     "metadata": {
      "needs_background": "light"
     },
     "output_type": "display_data"
    }
   ],
   "source": [
    "victims['AGE'].value_counts().plot.bar()"
   ]
  },
  {
   "cell_type": "code",
   "execution_count": 10,
   "metadata": {},
   "outputs": [
    {
     "data": {
      "text/plain": [
       "<AxesSubplot:>"
      ]
     },
     "execution_count": 10,
     "metadata": {},
     "output_type": "execute_result"
    },
    {
     "data": {
      "image/png": "[encoded data removed]",
      "text/plain": [
       "<Figure size 432x288 with 1 Axes>"
      ]
     },
     "metadata": {
      "needs_background": "light"
     },
     "output_type": "display_data"
    }
   ],
   "source": [
    "victims['SEX'].value_counts().plot.bar()"
   ]
  },
  {
   "cell_type": "code",
   "execution_count": 11,
   "metadata": {},
   "outputs": [
    {
     "data": {
      "text/plain": [
       "<AxesSubplot:>"
      ]
     },
     "execution_count": 11,
     "metadata": {},
     "output_type": "execute_result"
    },
    {
     "data": {
      "image/png": "[encoded data removed]",
      "text/plain": [
       "<Figure size 432x288 with 1 Axes>"
      ]
     },
     "metadata": {
      "needs_background": "light"
     },
     "output_type": "display_data"
    }
   ],
   "source": [
    "victims['RACE'].value_counts().plot.bar()"
   ]
  },
  {
   "cell_type": "code",
   "execution_count": 12,
   "metadata": {},
   "outputs": [
    {
     "data": {
      "text/plain": [
       "<AxesSubplot:>"
      ]
     },
     "execution_count": 12,
     "metadata": {},
     "output_type": "execute_result"
    },
    {
     "data": {
      "image/png": "[encoded data removed]",
      "text/plain": [
       "<Figure size 432x288 with 1 Axes>"
      ]
     },
     "metadata": {
      "needs_background": "light"
     },
     "output_type": "display_data"
    }
   ],
   "source": [
    "victims['VICTIMIZATION_FBI_DESCR'].value_counts().plot.bar()"
   ]
  }
 ],
 "metadata": {
  "kernelspec": {
   "display_name": "venv",
   "language": "python",
   "name": "python3"
  },
  "language_info": {
   "codemirror_mode": {
    "name": "ipython",
    "version": 3
   },
   "file_extension": ".py",
   "mimetype": "text/x-python",
   "name": "python",
   "nbconvert_exporter": "python",
   "pygments_lexer": "ipython3",
   "version": "3.8.12"
  }
 },
 "nbformat": 4,
 "nbformat_minor": 2
}
